{
 "cells": [
  {
   "cell_type": "code",
   "execution_count": 4,
   "metadata": {},
   "outputs": [
    {
     "name": "stdout",
     "output_type": "stream",
     "text": [
      "/data/datasets/CRA/good_actors_Mar6_2022/c75c240a-788a-4e27-9332-67b88e0132fe\n",
      "                               i-kry-sensor-magnetometer\n",
      "0      {'y': 225.0535888671875, 'timestamp': 16461591...\n",
      "1      {'y': 225.00973510742188, 'timestamp': 1646159...\n",
      "2      {'y': 224.96429443359375, 'timestamp': 1646159...\n",
      "3      {'y': 224.8115692138672, 'timestamp': 16461591...\n",
      "4      {'y': 224.8018798828125, 'timestamp': 16461591...\n",
      "...                                                  ...\n",
      "12362  {'y': 206.86856079101562, 'timestamp': 1646780...\n",
      "12363  {'y': 207.3482666015625, 'timestamp': 16467804...\n",
      "12364  {'y': 207.28126525878906, 'timestamp': 1646780...\n",
      "12365  {'y': 207.60008239746094, 'timestamp': 1646780...\n",
      "12366  {'y': 206.4958038330078, 'timestamp': 16467804...\n",
      "\n",
      "[12367 rows x 1 columns]\n"
     ]
    }
   ],
   "source": [
    "import os\n",
    "import json \n",
    "import matplotlib.pyplot as plt\n",
    "import pandas as pd\n",
    "\n",
    "questionMap = {} \n",
    "count = 0\n",
    "\n",
    "# Good Actors Dataset\n",
    "path = ('/data/datasets/CRA/good_actors_Mar6_2022')\n",
    "for root, dirs, files in os.walk(path, topdown=False):\n",
    "   for filename in files:\n",
    "      if filename == '71053e32-21c7-40ed-b8b5-46c1c6e73de0':\n",
    "        #Read json-metadata contents\n",
    "        try:\n",
    "          f = open(\"\".join([root,\"/\",filename]),\"r\")\n",
    "          data = json.load(f)\n",
    "        except:\n",
    "          print(\"An error occured while opening the file\")\n",
    "          break\n",
    "        print(root)\n",
    "\n",
    "\n",
    "      # #Checking Sensor type\n",
    "      #   #Iphone\n",
    "      #   if data['type'] == 'i-kry-sensor-historicalactivitydata':\n",
    "      #     try: #Opening the real survey data contents\n",
    "      #       main_file = filename.replace(\"-metadata.json\",\"\")  \n",
    "            \n",
    "      #       f = open(\"\".join([root,\"/\", main_file]),\"r\")\n",
    "      #       main_data = json.load(f)\n",
    "      #       print(f)\n",
    "\n",
    "      #     except:\n",
    "      #       print('ERROR could not find file: ' + main_file)\n",
    "\n",
    "path = \"/data/datasets/CRA/good_actors_Mar6_2022/c75c240a-788a-4e27-9332-67b88e0132fe/71053e32-21c7-40ed-b8b5-46c1c6e73de0\"\n",
    "df = pd.read_json(path,orient='time')\n",
    "print(df)"
   ]
  },
  {
   "cell_type": "code",
   "execution_count": 18,
   "metadata": {},
   "outputs": [
    {
     "name": "stdout",
     "output_type": "stream",
     "text": [
      "    Name  Age\n",
      "3   jack   18\n",
      "2  krish   19\n",
      "0    Tom   20\n",
      "1   nick   21\n"
     ]
    }
   ],
   "source": [
    "\n",
    "import pandas as pd\n",
    " \n",
    "# intialise data of lists.\n",
    "data = {'Name':['Tom', 'nick', 'krish', 'jack',],\n",
    "        'Age':[20, 21, 19, 18,]}\n",
    "\n",
    "data2 = {'Name':['Rock', 'Ice', 'Fire', 'Leaf',],\n",
    "    'Age':[100, 2, 7, 11,]}\n",
    "\n",
    "# Create DataFrame\n",
    "df = df.sort_values(by=['Age'],ascending=True)\n",
    "\n",
    "if(data2['Age'] < data['Age']):\n",
    "    df.insert(data2['Age'])\n",
    "\n",
    "\n",
    "\n",
    "# Print the output.\n",
    "print(df)\n",
    "\n",
    "    "
   ]
  }
 ],
 "metadata": {
  "kernelspec": {
   "display_name": "Python 3.8.10 64-bit",
   "language": "python",
   "name": "python3"
  },
  "language_info": {
   "codemirror_mode": {
    "name": "ipython",
    "version": 3
   },
   "file_extension": ".py",
   "mimetype": "text/x-python",
   "name": "python",
   "nbconvert_exporter": "python",
   "pygments_lexer": "ipython3",
   "version": "3.8.10"
  },
  "orig_nbformat": 4,
  "vscode": {
   "interpreter": {
    "hash": "31f2aee4e71d21fbe5cf8b01ff0e069b9275f58929596ceb00d14d90e3e16cd6"
   }
  }
 },
 "nbformat": 4,
 "nbformat_minor": 2
}
