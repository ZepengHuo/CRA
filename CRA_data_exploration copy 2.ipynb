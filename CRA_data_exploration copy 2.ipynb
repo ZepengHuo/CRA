{
 "cells": [
  {
   "cell_type": "code",
   "execution_count": 1,
   "metadata": {},
   "outputs": [],
   "source": [
    "import glob\n",
    "import os\n",
    "import json\n",
    "import matplotlib.pyplot as plt\n",
    "import pandas as pd\n",
    "import json\n",
    "import ast\n",
    "import numpy as np\n",
    "import matplotlib.pyplot as plt\n",
    "import pickle\n",
    "import time\n",
    "import datetime\n",
    "import tsfel\n",
    "from xgboost import XGBClassifier\n",
    "import xgboost as xgb\n",
    "from sklearn.metrics import roc_auc_score, precision_score, accuracy_score, plot_confusion_matrix\n",
    "from sklearn.ensemble import RandomForestClassifier\n",
    "from sklearn.model_selection import KFold, StratifiedKFold, GridSearchCV\n",
    "from sklearn.preprocessing import LabelEncoder "
   ]
  },
  {
   "cell_type": "markdown",
   "metadata": {},
   "source": [
    "path = os.getcwd()"
   ]
  },
  {
   "cell_type": "markdown",
   "metadata": {},
   "source": [
    "all_txt_ls = os.listdir(path + '/data')"
   ]
  },
  {
   "cell_type": "markdown",
   "metadata": {},
   "source": [
    "len(all_txt_ls)"
   ]
  },
  {
   "cell_type": "markdown",
   "metadata": {},
   "source": [
    "!du data"
   ]
  },
  {
   "cell_type": "markdown",
   "metadata": {},
   "source": [
    "all_filename_ls = []\n",
    "\n",
    "for file in all_txt_ls:\n",
    "    if file.endswith('txt'):\n",
    "        file_name = file.split('-')[-1][:-4]\n",
    "        with open(path + '/data/' + file, 'r') as json_file:\n",
    "            try:\n",
    "                data = json.load(json_file)\n",
    "                print(file, data.keys())\n",
    "                all_filename_ls.append(file_name)\n",
    "\n",
    "            except:\n",
    "                pass"
   ]
  },
  {
   "cell_type": "markdown",
   "metadata": {},
   "source": [
    "plt.figure(figsize=(20,10))\n",
    "plt.xticks(fontsize=14, rotation=90)\n",
    "plt.hist(all_filename_ls)"
   ]
  },
  {
   "cell_type": "code",
   "execution_count": 2,
   "metadata": {},
   "outputs": [],
   "source": [
    "#file_name = 'April_2021_with audio surveys-WASH - SurveyID mapping including Question UUIDs.xlsx'\n",
    "\n",
    "#file_name = 'Aug_2021_SurveyID mapping including Question UUIDs  - WASH survey version.xlsx'\n",
    "\n",
    "file_name = 'Nov_2021_SurveyID mapping including Question UUIDs  - Nov2021.xlsx'\n",
    "\n",
    "dfs = pd.read_excel(file_name, sheet_name=None, engine='openpyxl')"
   ]
  },
  {
   "cell_type": "code",
   "execution_count": 3,
   "metadata": {},
   "outputs": [
    {
     "data": {
      "text/plain": [
       "dict_keys(['SIDs by day', 'Baseline', 'A', 'B', 'C', 'D', 'E', 'F', 'G', 'End of Study Survey', 'STATIC by day', 'Audio Survey', 'Audio Features', 'Context Survey'])"
      ]
     },
     "execution_count": 3,
     "metadata": {},
     "output_type": "execute_result"
    }
   ],
   "source": [
    "dfs.keys()"
   ]
  },
  {
   "cell_type": "code",
   "execution_count": 4,
   "metadata": {},
   "outputs": [],
   "source": [
    "#dfs['Context Survey']"
   ]
  },
  {
   "cell_type": "code",
   "execution_count": 5,
   "metadata": {},
   "outputs": [],
   "source": [
    "Question_to_Measure_dict = {\n",
    "    \"Please press start when you are ready for the first step of the activity\\nInstructions:\\n- Put the phone in your pocket (skip the question if you don't have any)\\n- Open bathroom door \\n- Go into the bathroom \\n- Sit down on the toilet for 10 seconds \\n- Get up \\n- Flush toilet \\n- Wash and dry hands \\n- Come out of bathroom \\n- Close bathroom door\\nThis activity is optional and will not effect your payments\": [\"Bathroom Usage\"],\n",
    "                            \n",
    "    \"Please press start when you have the items ready the for activity\\nInstruction:\\n- Put the phone in your pocket (skip the question if you don't have any)\\n- Put (pack) any 5 items into a bag. (e.g. water bottle, books, Clothes, packaged food, flashlight, sleeping bag)\\nThis activity is optional and will not effect your payments\": [\"Pack a Bag\"],\n",
    "                            \n",
    "    \"Please press start when you have the items ready for the activity\\nInstruction:\\n- Put the phone in your pocket (skip the question if you don't have any)\\n- Wear a backpack and walk with a constant pace and pronounced arm swing (army march) around the room\\nThis activity is optional and will not effect your payments\": [\"March with a Backpack\"], \n",
    "                            \n",
    "    \"Please press start when you have the items ready for the activity\\nInstruction:\\n- Put the phone in your pocket (skip the question if you don't have any)\\n- Lift and lower any load (e.g. A collection of books or a box filled with random items) 15 times from the floor-level to above hip-level then back to floor-level.\\nThis activity is optional and will not effect your payments\": [\"Lift and Lower Object\"],\n",
    "                            \n",
    "    \"Please press start when you have the items ready for the activity\\nInstruction:\\n- Put the phone in your pocket (skip the question if you don't have any)\\n- Lift and carry load (e.g. A collection of books or a box filled with random items) and walk for 45 seconds\\nThis activity is optional and will not effect your payments\": [\"Lift and Carry Load\"]    \n",
    "}"
   ]
  },
  {
   "cell_type": "code",
   "execution_count": 6,
   "metadata": {},
   "outputs": [],
   "source": [
    "all_question_UUID_ls = []\n",
    "UUID_question_dict = {}\n",
    "\n",
    "\n",
    "#for sheet in dfs.keys():\n",
    "for sheet in ['Context Survey']:\n",
    "    if 'Question UUID for Queries' in dfs[sheet].columns:\n",
    "        all_question_UUID_ls.extend(dfs[sheet]['Question UUID for Queries'].to_list())\n",
    "        for UUID in dfs[sheet]['Question UUID for Queries'].to_list():\n",
    "            if isinstance(UUID, str) and len(UUID) == 36 and len(UUID.split('-')) == 5:\n",
    "                try:\n",
    "                    question_str = dfs[sheet].loc[dfs[sheet]['Question UUID for Queries']==UUID]['Questions '].values \n",
    "                    if '\\n' not in question_str[0]:\n",
    "                        UUID_question_dict[UUID] = question_str\n",
    "                    else:\n",
    "                        UUID_question_dict[UUID] = Question_to_Measure_dict[question_str[0]]\n",
    "                except KeyError:\n",
    "                    continue\n",
    "\n",
    "                \n",
    "for UUID in UUID_question_dict.keys():\n",
    "    try:\n",
    "        UUID_question_dict[UUID] = UUID_question_dict[UUID][0]\n",
    "    except IndexError:\n",
    "        #print(UUID_question_dict[UUID])\n",
    "        continue"
   ]
  },
  {
   "cell_type": "markdown",
   "metadata": {},
   "source": [
    "UUID_question_dict"
   ]
  },
  {
   "cell_type": "markdown",
   "metadata": {
    "tags": []
   },
   "source": [
    "all_question_UUID_ls"
   ]
  },
  {
   "cell_type": "code",
   "execution_count": 7,
   "metadata": {},
   "outputs": [],
   "source": [
    "#data_path = './wash-helpers-0.2/downloads/new_context'\n",
    "old_data_path = './wash-helpers-0.2/downloads/new_context_QualifiedUsers'\n",
    "\n",
    "writerIDs_ls = os.listdir(old_data_path)"
   ]
  },
  {
   "cell_type": "code",
   "execution_count": 8,
   "metadata": {},
   "outputs": [],
   "source": [
    "bad_data_path = './tacc_data/bad_actors_Mar6_2022'\n",
    "\n",
    "BadActorIDs_ls = os.listdir(bad_data_path)"
   ]
  },
  {
   "cell_type": "code",
   "execution_count": 9,
   "metadata": {},
   "outputs": [
    {
     "data": {
      "text/plain": [
       "['42dde845-e9b4-4e76-8a33-d632cd8799cd',\n",
       " '2f76a31e-1da0-4e38-b23c-cb8dd968d6f7',\n",
       " 'e6eccdc7-bb9b-4b44-ba7c-f0fb832a02f6',\n",
       " '8d93e797-7bf1-44c1-9e8e-c4f464d8ae48']"
      ]
     },
     "execution_count": 9,
     "metadata": {},
     "output_type": "execute_result"
    }
   ],
   "source": [
    "BadActorIDs_ls"
   ]
  },
  {
   "cell_type": "code",
   "execution_count": 10,
   "metadata": {},
   "outputs": [],
   "source": [
    "good_data_path = './tacc_data/good_actors_Mar6_2022'\n",
    "\n",
    "GoodActorIDs_ls = os.listdir(good_data_path)"
   ]
  },
  {
   "cell_type": "code",
   "execution_count": 11,
   "metadata": {},
   "outputs": [
    {
     "data": {
      "text/plain": [
       "['85881003-bfa2-4aad-a144-0f0f7fb3dcfd',\n",
       " 'c75c240a-788a-4e27-9332-67b88e0132fe',\n",
       " '257356ea-fd3d-45a7-abd0-4635d209e502',\n",
       " '84fa4d6d-a41f-403b-93a4-498e3bed3eb5',\n",
       " '160ec48e-f399-4b72-9790-dbbcc4819ac7',\n",
       " '8e03e2fe-ec19-451a-9920-8297e4c4d9f2',\n",
       " '3065afb7-8559-414b-abdd-96cdf7a0ac65',\n",
       " '5af73f9f-67cb-4420-a398-97d7d85aab95',\n",
       " '730c9f85-c9f0-4983-b34f-e35a6f1d8475',\n",
       " '69d9bc43-a2d6-465c-a564-21b4db2a6aaa',\n",
       " '5576c228-0949-4b58-a933-cc2bf402c729',\n",
       " '3bcc1fc0-4333-4309-bba5-3e0763f9262e',\n",
       " 'f90cfe25-6b5f-4acb-a9c8-5b1e5becc7a1',\n",
       " '97520f2b-4bec-4016-bc02-b749fff88aaa',\n",
       " 'f69f3c3d-a7f0-4006-b4cd-a01999fe4d7a',\n",
       " 'f47eea72-5d20-4e9e-8a5d-ab90d9e649b0',\n",
       " '24653837-9214-4419-8966-a60e221497f1',\n",
       " '9cc4a0bf-96b7-44ad-a008-9c3f9f821a57',\n",
       " '477e1103-71a4-4050-99eb-388b71f634d6',\n",
       " '0078ce68-1692-44fd-9f68-547ed2b1a34c',\n",
       " '8c6fc909-da26-4e3d-b443-e41d1a05689f',\n",
       " '678c65a3-3b27-4caa-8e07-908f3e086568',\n",
       " '63d90887-3f66-46e8-bc9f-2e623532f3ef',\n",
       " '3c68c43a-c83c-44b0-92e5-c6801ce17316',\n",
       " '820400bb-b9c8-4df1-b2f1-3c9124970f5c',\n",
       " '8b74f12b-4f81-44d6-bff9-7a5fdc3a40cd']"
      ]
     },
     "execution_count": 11,
     "metadata": {},
     "output_type": "execute_result"
    }
   ],
   "source": [
    "GoodActorIDs_ls"
   ]
  },
  {
   "cell_type": "code",
   "execution_count": 12,
   "metadata": {},
   "outputs": [
    {
     "data": {
      "text/plain": [
       "set()"
      ]
     },
     "execution_count": 12,
     "metadata": {},
     "output_type": "execute_result"
    }
   ],
   "source": [
    "set(GoodActorIDs_ls).intersection(set(BadActorIDs_ls))"
   ]
  },
  {
   "cell_type": "code",
   "execution_count": 13,
   "metadata": {},
   "outputs": [],
   "source": [
    "json_data_i_ls = []\n",
    "json_data_a_ls = []\n",
    "\n",
    "for writerID in writerIDs_ls:\n",
    "    deviceIDs_ls = os.listdir(f'{old_data_path}/{writerID}/')\n",
    "    for deviceID in deviceIDs_ls:\n",
    "        file_ls = os.listdir(f'{old_data_path}/{writerID}/{deviceID}')\n",
    "        for file in file_ls:\n",
    "            if 'i-kry-sensor-survey' in f'{old_data_path}/{writerID}/{deviceID}/{file}':\n",
    "                with open(f'{old_data_path}/{writerID}/{deviceID}/{file}') as f:\n",
    "                    try:\n",
    "                        json_data_i_ls.append(json.load(f))\n",
    "                    except:\n",
    "                        continue\n",
    "\n",
    "            elif 'a-kry-sensor-survey' in f'{old_data_path}/{writerID}/{deviceID}/{file}':\n",
    "                with open(f'{old_data_path}/{writerID}/{deviceID}/{file}') as f:\n",
    "                    try:\n",
    "                        json_data_a_ls.append(json.load(f))\n",
    "                    except:\n",
    "                        continue"
   ]
  },
  {
   "cell_type": "code",
   "execution_count": 14,
   "metadata": {},
   "outputs": [],
   "source": [
    "# build function without device ID\n",
    "\n",
    "def get_json(data_path):\n",
    "    json_data_i_ls = []\n",
    "    json_data_a_ls = []\n",
    "    writerIDs_ls = os.listdir(f'{data_path}')\n",
    "    \n",
    "    for writerID in writerIDs_ls:\n",
    "        file_ls = os.listdir(f'{data_path}/{writerID}')\n",
    "        for file in file_ls:\n",
    "            if 'metadata' not in file:\n",
    "                with open(f'{data_path}/{writerID}/{file}') as f:\n",
    "                    file_json = json.load(f)\n",
    "                    if 'i-kry-sensor' in ' '.join(file_json.keys()):\n",
    "                        try:\n",
    "                            json_data_i_ls.append(file_json)\n",
    "                        except:\n",
    "                            continue\n",
    "                    else:\n",
    "                        try:\n",
    "                            json_data_a_ls.append(file_json)\n",
    "                        except:\n",
    "                            continue\n",
    "    return json_data_i_ls, json_data_a_ls"
   ]
  },
  {
   "cell_type": "code",
   "execution_count": 15,
   "metadata": {},
   "outputs": [],
   "source": [
    "json_data_i_ls, json_data_a_ls = get_json(good_data_path)"
   ]
  },
  {
   "cell_type": "markdown",
   "metadata": {},
   "source": [
    "os.listdir(f'{data_path}/{writerID}/{deviceID}')"
   ]
  },
  {
   "cell_type": "code",
   "execution_count": 16,
   "metadata": {
    "tags": []
   },
   "outputs": [
    {
     "data": {
      "text/plain": [
       "1431"
      ]
     },
     "execution_count": 16,
     "metadata": {},
     "output_type": "execute_result"
    }
   ],
   "source": [
    "len(json_data_i_ls)"
   ]
  },
  {
   "cell_type": "code",
   "execution_count": 17,
   "metadata": {},
   "outputs": [],
   "source": [
    "for idx in range(len(json_data_i_ls)):\n",
    "    print(json_data_i_ls[idx])\n",
    "    if 'i-kry-sensor-survey-daily' in json_data_i_ls[idx].keys():\n",
    "        print(json_data_i_ls[idx])"
   ]
  },
  {
   "cell_type": "code",
   "execution_count": null,
   "metadata": {},
   "outputs": [
    {
     "data": {
      "text/plain": [
       "32698"
      ]
     },
     "execution_count": 48,
     "metadata": {},
     "output_type": "execute_result"
    }
   ],
   "source": [
    "len(json_data_a_ls)"
   ]
  },
  {
   "cell_type": "markdown",
   "metadata": {},
   "source": [
    "iphone_key = 'i-kry-sensor-survey-daily'\n",
    "idx = 4\n",
    "\n",
    "for ans in (json_data_i_ls[idx][iphone_key]):\n",
    "    if (ans['questionUUID'] in all_question_UUID_ls):\n",
    "        print(ans)\n",
    "        print(ans.keys())\n",
    "        item_ls = ans['answer'].split('\\n')\n",
    "        for item in item_ls:\n",
    "            if item.startswith('    endTime = '):\n",
    "                endTime = float(item.split('\"')[1])\n",
    "            if item.startswith('    startTime = '):\n",
    "                startTime = float(item.split('\"')[1])\n",
    "        print(endTime - startTime)\n",
    "        activity_str = UUID_question_dict[ans['questionUUID']]\n",
    "        activity_ls = activity_str.split(' ')\n",
    "        activity = activity_ls[6] \n",
    "        if activity_ls[0] != 'Did' and activity_ls[0] != 'Please':\n",
    "            for i in activity_ls[activity_ls.index('and'): activity_ls.index('for')]:\n",
    "                activity += ' ' + i\n",
    "        else:\n",
    "            activity = 'skip ' + item_ls[0]\n",
    "        print(activity)\n",
    "        print()"
   ]
  },
  {
   "cell_type": "markdown",
   "metadata": {
    "tags": []
   },
   "source": [
    "# simple activity + plot out histogram for iphone\n",
    "\n",
    "iphone_key = 'i-kry-sensor-survey-daily'\n",
    "\n",
    "activity_length = {}\n",
    "for idx in range(len(json_data_i_ls)):\n",
    "    for ans in (json_data_i_ls[idx][iphone_key]):\n",
    "        if (ans['questionUUID'] in all_question_UUID_ls):\n",
    "            item_ls = ans['answer'].split('\\n')\n",
    "            for item in item_ls:\n",
    "                if 'stopTime' in item:\n",
    "                    endTime = float(item.split('\"')[2].replace(':','').replace(',',''))\n",
    "                if 'startTime' in item:\n",
    "                    startTime = float(item.split('\"')[-1].replace(':','').replace('}',''))\n",
    "            length = endTime - startTime\n",
    "            activity_str = UUID_question_dict[ans['questionUUID']]\n",
    "            activity_ls = activity_str.split(' ')\n",
    "            try:\n",
    "                activity = activity_ls[6] \n",
    "                for i in activity_ls[activity_ls.index('and'): activity_ls.index('for')]:\n",
    "                    activity += ' ' + i\n",
    "                if activity not in activity_length:\n",
    "                    activity_length[activity] = [length]\n",
    "                else:\n",
    "                    activity_length[activity].append(length)\n",
    "            except:\n",
    "                #print(activity_str)\n",
    "                pass\n",
    "\n",
    "for key in activity_length:\n",
    "    fig = plt.figure()\n",
    "    plt.hist(activity_length[key])\n",
    "    plt.title(key)"
   ]
  },
  {
   "cell_type": "code",
   "execution_count": 57,
   "metadata": {},
   "outputs": [
    {
     "ename": "KeyError",
     "evalue": "'i-kry-sensor-survey-daily'",
     "output_type": "error",
     "traceback": [
      "\u001b[0;31m---------------------------------------------------------------------------\u001b[0m",
      "\u001b[0;31mKeyError\u001b[0m                                  Traceback (most recent call last)",
      "\u001b[0;32m<ipython-input-57-58d232aff8e3>\u001b[0m in \u001b[0;36m<module>\u001b[0;34m\u001b[0m\n\u001b[1;32m      5\u001b[0m \u001b[0mactivity_length\u001b[0m \u001b[0;34m=\u001b[0m \u001b[0;34m{\u001b[0m\u001b[0;34m}\u001b[0m\u001b[0;34m\u001b[0m\u001b[0;34m\u001b[0m\u001b[0m\n\u001b[1;32m      6\u001b[0m \u001b[0;32mfor\u001b[0m \u001b[0midx\u001b[0m \u001b[0;32min\u001b[0m \u001b[0mrange\u001b[0m\u001b[0;34m(\u001b[0m\u001b[0mlen\u001b[0m\u001b[0;34m(\u001b[0m\u001b[0mjson_data_i_ls\u001b[0m\u001b[0;34m)\u001b[0m\u001b[0;34m)\u001b[0m\u001b[0;34m:\u001b[0m\u001b[0;34m\u001b[0m\u001b[0;34m\u001b[0m\u001b[0m\n\u001b[0;32m----> 7\u001b[0;31m     \u001b[0;32mfor\u001b[0m \u001b[0mans\u001b[0m \u001b[0;32min\u001b[0m \u001b[0;34m(\u001b[0m\u001b[0mjson_data_i_ls\u001b[0m\u001b[0;34m[\u001b[0m\u001b[0midx\u001b[0m\u001b[0;34m]\u001b[0m\u001b[0;34m[\u001b[0m\u001b[0miphone_key\u001b[0m\u001b[0;34m]\u001b[0m\u001b[0;34m)\u001b[0m\u001b[0;34m:\u001b[0m\u001b[0;34m\u001b[0m\u001b[0;34m\u001b[0m\u001b[0m\n\u001b[0m\u001b[1;32m      8\u001b[0m         \u001b[0;32mif\u001b[0m \u001b[0;34m(\u001b[0m\u001b[0mans\u001b[0m\u001b[0;34m[\u001b[0m\u001b[0;34m'questionUUID'\u001b[0m\u001b[0;34m]\u001b[0m \u001b[0;32min\u001b[0m \u001b[0mall_question_UUID_ls\u001b[0m\u001b[0;34m)\u001b[0m\u001b[0;34m:\u001b[0m\u001b[0;34m\u001b[0m\u001b[0;34m\u001b[0m\u001b[0m\n\u001b[1;32m      9\u001b[0m             \u001b[0mitem_ls\u001b[0m \u001b[0;34m=\u001b[0m \u001b[0mans\u001b[0m\u001b[0;34m[\u001b[0m\u001b[0;34m'answer'\u001b[0m\u001b[0;34m]\u001b[0m\u001b[0;34m.\u001b[0m\u001b[0msplit\u001b[0m\u001b[0;34m(\u001b[0m\u001b[0;34m'\\n'\u001b[0m\u001b[0;34m)\u001b[0m\u001b[0;34m\u001b[0m\u001b[0;34m\u001b[0m\u001b[0m\n",
      "\u001b[0;31mKeyError\u001b[0m: 'i-kry-sensor-survey-daily'"
     ]
    }
   ],
   "source": [
    "# complex activity + plot out histogram for iphone\n",
    "\n",
    "iphone_key = 'i-kry-sensor-survey-daily'\n",
    "\n",
    "activity_length = {}\n",
    "for idx in range(len(json_data_i_ls)):\n",
    "    if iphone_key in json_data_i_ls[idx].keys():\n",
    "        for ans in (json_data_i_ls[idx][iphone_key]):\n",
    "            if (ans['questionUUID'] in all_question_UUID_ls):\n",
    "                item_ls = ans['answer'].split('\\n')\n",
    "                for item in item_ls:\n",
    "                    if 'stopTime' in item:\n",
    "                        endTime = float(item.split('\"')[2].replace(':','').replace(',',''))\n",
    "                    if 'startTime' in item:\n",
    "                        startTime = float(item.split('\"')[-1].replace(':','').replace('}',''))\n",
    "                length = endTime - startTime\n",
    "                activity_str = UUID_question_dict[ans['questionUUID']]\n",
    "                \n",
    "                if 'Did' not in activity_str:\n",
    "                    if activity_str not in activity_length:\n",
    "                        activity_length[activity_str]  = [length]\n",
    "                    else:\n",
    "                        activity_length[activity_str].append(length)\n",
    "\n",
    "for key in activity_length:\n",
    "    fig = plt.figure()\n",
    "    plt.hist(activity_length[key])\n",
    "    plt.title(key)"
   ]
  },
  {
   "cell_type": "code",
   "execution_count": 90,
   "metadata": {
    "tags": []
   },
   "outputs": [
    {
     "data": {
      "image/png": "[encoded data removed]",
      "text/plain": [
       "<Figure size 432x288 with 1 Axes>"
      ]
     },
     "metadata": {
      "needs_background": "light"
     },
     "output_type": "display_data"
    },
    {
     "data": {
      "image/png": "[encoded data removed]",
      "text/plain": [
       "<Figure size 432x288 with 1 Axes>"
      ]
     },
     "metadata": {
      "needs_background": "light"
     },
     "output_type": "display_data"
    },
    {
     "data": {
      "image/png": "[encoded data removed]",
      "text/plain": [
       "<Figure size 432x288 with 1 Axes>"
      ]
     },
     "metadata": {
      "needs_background": "light"
     },
     "output_type": "display_data"
    },
    {
     "data": {
      "image/png": "[encoded data removed]",
      "text/plain": [
       "<Figure size 432x288 with 1 Axes>"
      ]
     },
     "metadata": {
      "needs_background": "light"
     },
     "output_type": "display_data"
    },
    {
     "data": {
      "image/png": "[encoded data removed]",
      "text/plain": [
       "<Figure size 432x288 with 1 Axes>"
      ]
     },
     "metadata": {
      "needs_background": "light"
     },
     "output_type": "display_data"
    },
    {
     "data": {
      "image/png": "[encoded data removed]",
      "text/plain": [
       "<Figure size 432x288 with 1 Axes>"
      ]
     },
     "metadata": {
      "needs_background": "light"
     },
     "output_type": "display_data"
    },
    {
     "data": {
      "image/png": "[encoded data removed]",
      "text/plain": [
       "<Figure size 432x288 with 1 Axes>"
      ]
     },
     "metadata": {
      "needs_background": "light"
     },
     "output_type": "display_data"
    },
    {
     "data": {
      "image/png": "[encoded data removed]",
      "text/plain": [
       "<Figure size 432x288 with 1 Axes>"
      ]
     },
     "metadata": {
      "needs_background": "light"
     },
     "output_type": "display_data"
    },
    {
     "data": {
      "image/png": "[encoded data removed]",
      "text/plain": [
       "<Figure size 432x288 with 1 Axes>"
      ]
     },
     "metadata": {
      "needs_background": "light"
     },
     "output_type": "display_data"
    },
    {
     "data": {
      "image/png": "[encoded data removed]",
      "text/plain": [
       "<Figure size 432x288 with 1 Axes>"
      ]
     },
     "metadata": {
      "needs_background": "light"
     },
     "output_type": "display_data"
    },
    {
     "data": {
      "image/png": "[encoded data removed]",
      "text/plain": [
       "<Figure size 432x288 with 1 Axes>"
      ]
     },
     "metadata": {
      "needs_background": "light"
     },
     "output_type": "display_data"
    },
    {
     "data": {
      "image/png": "[encoded data removed]",
      "text/plain": [
       "<Figure size 432x288 with 1 Axes>"
      ]
     },
     "metadata": {
      "needs_background": "light"
     },
     "output_type": "display_data"
    }
   ],
   "source": [
    "android_key = 'records'\n",
    "\n",
    "# plot out histogram for android\n",
    "\n",
    "activity_length = {}\n",
    "for idx in range(len(json_data_a_ls)):\n",
    "    for ans in (json_data_a_ls[idx][android_key]):\n",
    "        if (ans['questionUUID'] in all_question_UUID_ls):\n",
    "            if ans['answer'].startswith('{\"startTime'):\n",
    "                answer_time_dict = json.loads(ans['answer'])\n",
    "                startTime = answer_time_dict['startTime'] / 1000\n",
    "                endTime = answer_time_dict['stopTime'] / 1000\n",
    "                length = endTime - startTime\n",
    "                activity_str = UUID_question_dict[ans['questionUUID']]\n",
    "                activity_ls = activity_str.split(' ')\n",
    "                try:\n",
    "                    activity = activity_ls[6] \n",
    "                    for i in activity_ls[activity_ls.index('and'): activity_ls.index('for')]:\n",
    "                        activity += ' ' + i\n",
    "                    if activity not in activity_length:\n",
    "                        activity_length[activity] = [length]\n",
    "                    else:\n",
    "                        activity_length[activity].append(length)\n",
    "                except:\n",
    "                    #print(activity_str)\n",
    "                    pass\n",
    "\n",
    "for key in activity_length:\n",
    "    fig = plt.figure()\n",
    "    plt.hist(activity_length[key])\n",
    "    plt.title(key)"
   ]
  },
  {
   "cell_type": "markdown",
   "metadata": {},
   "source": [
    "#### UUID in xlsx"
   ]
  },
  {
   "cell_type": "markdown",
   "metadata": {
    "jupyter": {
     "outputs_hidden": true
    },
    "tags": []
   },
   "source": [
    "for json_data in json_data_a_ls:\n",
    "    for record in json_data['records']:\n",
    "        if record['questionUUID'] not in UUID_question_dict:\n",
    "            print(record['questionUUID'])"
   ]
  },
  {
   "cell_type": "markdown",
   "metadata": {
    "jupyter": {
     "outputs_hidden": true
    },
    "tags": []
   },
   "source": [
    "for json_data in json_data_i_ls:\n",
    "    for record in json_data['i-kry-sensor-survey-daily']:\n",
    "        if 'questionUUID' in record:\n",
    "            if record['questionUUID'] in UUID_question_dict:\n",
    "                print('questionUUID', record['questionUUID'])\n",
    "        elif 'uuid' in record:\n",
    "            if record['uuid'] in UUID_question_dict:\n",
    "                if record['uuid']+'\\n' not in UUID_question_dict:\n",
    "                    print('uuid', record['uuid'], record)\n",
    "                    print()\n",
    "        else:\n",
    "            print(record)"
   ]
  },
  {
   "cell_type": "markdown",
   "metadata": {},
   "source": [
    "### get writerID with 30s acitivity\n",
    "#### each file has time-stamp for 30s acitivity"
   ]
  },
  {
   "cell_type": "code",
   "execution_count": 13,
   "metadata": {},
   "outputs": [],
   "source": [
    "writerIDs_ls = os.listdir(data_path)"
   ]
  },
  {
   "cell_type": "code",
   "execution_count": 14,
   "metadata": {},
   "outputs": [],
   "source": [
    "with open('writerID_ls.npy', 'wb') as f:\n",
    "    np.save(f, writerIDs_ls)"
   ]
  },
  {
   "cell_type": "code",
   "execution_count": 15,
   "metadata": {},
   "outputs": [],
   "source": [
    "json_data_i_dict = {}\n",
    "json_data_a_dict = {}\n",
    "\n",
    "for writerID in writerIDs_ls:\n",
    "    deviceIDs_ls = os.listdir(f'{data_path}/{writerID}/')\n",
    "    for deviceID in deviceIDs_ls:\n",
    "        file_ls = os.listdir(f'{data_path}/{writerID}/{deviceID}')\n",
    "        for file in file_ls:\n",
    "            if 'i-kry-sensor-survey' in f'{data_path}/{writerID}/{deviceID}/{file}':\n",
    "                with open(f'{data_path}/{writerID}/{deviceID}/{file}') as f:\n",
    "                    try:\n",
    "                        if writerID in json_data_i_dict:\n",
    "                            json_data_i_dict[writerID].append(json.load(f))\n",
    "                        else:\n",
    "                            json_data_i_dict[writerID] = [json.load(f)]\n",
    "                    except:\n",
    "                        continue\n",
    "\n",
    "            elif 'a-kry-sensor-survey' in f'{data_path}/{writerID}/{deviceID}/{file}':\n",
    "                with open(f'{data_path}/{writerID}/{deviceID}/{file}') as f:\n",
    "                    try:\n",
    "                        if writerID in json_data_a_dict:\n",
    "                            json_data_a_dict[writerID].append(json.load(f))\n",
    "                        else:\n",
    "                            json_data_a_dict[writerID] = [json.load(f)]\n",
    "                    except:\n",
    "                        continue"
   ]
  },
  {
   "cell_type": "code",
   "execution_count": 16,
   "metadata": {},
   "outputs": [],
   "source": [
    "iphone_key = 'i-kry-sensor-survey-daily'\n",
    "\n",
    "# filter out too long or too short acitivity for iphone\n",
    "json_data_i_dict_filtered = {}\n",
    "\n",
    "for writerID in json_data_i_dict:\n",
    "    for ans_ls in (json_data_i_dict[writerID]):\n",
    "        for ans in ans_ls[iphone_key]:\n",
    "            if (ans['questionUUID'] in all_question_UUID_ls):\n",
    "                item_ls = ans['answer'].split('\\n')\n",
    "                for item in item_ls:\n",
    "                    if item.startswith('    endTime = '):\n",
    "                        endTime = float(item.split('\"')[1])\n",
    "                    if item.startswith('    startTime = '):\n",
    "                        startTime = float(item.split('\"')[1])\n",
    "                length = endTime - startTime\n",
    "                if length > 5 and length < 60:\n",
    "                    if writerID not in json_data_i_dict_filtered:\n",
    "                        json_data_i_dict_filtered[writerID]={iphone_key :[ans]}\n",
    "                    else:\n",
    "                        json_data_i_dict_filtered[writerID][iphone_key].append(ans)"
   ]
  },
  {
   "cell_type": "code",
   "execution_count": 17,
   "metadata": {},
   "outputs": [],
   "source": [
    "android_key = 'records'\n",
    "\n",
    "# filter out too long or too short acitivity for android\n",
    "json_data_a_dict_filtered = {}\n",
    "\n",
    "for writerID in json_data_a_dict:\n",
    "    for ans_ls in (json_data_a_dict[writerID]):\n",
    "        for ans in ans_ls[android_key]:\n",
    "            if (ans['questionUUID'] in all_question_UUID_ls):\n",
    "                if ans['answer'].startswith('{\"startTime'):\n",
    "                    answer_time_dict = json.loads(ans['answer'])\n",
    "                    startTime = answer_time_dict['startTime'] / 1000\n",
    "                    endTime = answer_time_dict['stopTime'] / 1000\n",
    "                    length = endTime - startTime\n",
    "                    if length > 5 and length < 60:\n",
    "                        if writerID not in json_data_a_dict_filtered:\n",
    "                            json_data_a_dict_filtered[writerID]={android_key :[ans]}\n",
    "                        else:\n",
    "                            json_data_a_dict_filtered[writerID][android_key].append(ans)"
   ]
  },
  {
   "cell_type": "code",
   "execution_count": 18,
   "metadata": {},
   "outputs": [],
   "source": [
    "iphone_key = 'i-kry-sensor-survey-daily'\n",
    "\n",
    "# get formatted dictionary {writerID: {activity: [startTime, endTime]}} for iphone\n",
    "json_data_i_dict_formatted = {}\n",
    "\n",
    "for writerID in json_data_i_dict:\n",
    "    for ans_ls in (json_data_i_dict[writerID]):\n",
    "        for ans in ans_ls[iphone_key]:\n",
    "            if (ans['questionUUID'] in all_question_UUID_ls):\n",
    "                item_ls = ans['answer'].split('\\n')\n",
    "                for item in item_ls:\n",
    "                    if item.startswith('    endTime = '):\n",
    "                        endTime = float(item.split('\"')[1])\n",
    "                    if item.startswith('    startTime = '):\n",
    "                        startTime = float(item.split('\"')[1])\n",
    "                length = endTime - startTime\n",
    "                activity_str = UUID_question_dict[ans['questionUUID']]\n",
    "                activity_ls = activity_str.split(' ')\n",
    "                try:\n",
    "                    activity = activity_ls[6] \n",
    "                    for i in activity_ls[activity_ls.index('and'): activity_ls.index('for')]:\n",
    "                        activity += ' ' + i\n",
    "                    \n",
    "                    if writerID not in json_data_i_dict_formatted:\n",
    "                        json_data_i_dict_formatted[writerID] = {}\n",
    "                    #print(json_data_i_dict_formatted)    \n",
    "                    if activity not in json_data_i_dict_formatted[writerID]:\n",
    "                        json_data_i_dict_formatted[writerID].update({activity: [[startTime, endTime]]})\n",
    "                    else:\n",
    "                        json_data_i_dict_formatted[writerID][activity].append([startTime, endTime])\n",
    "                except:\n",
    "                    #print(activity_str)\n",
    "                    pass"
   ]
  },
  {
   "cell_type": "code",
   "execution_count": 19,
   "metadata": {},
   "outputs": [],
   "source": [
    "android_key = 'records'\n",
    "\n",
    "# get formatted dictionary {writerID: {activity: [startTime, endTime]}} for android\n",
    "json_data_a_dict_formatted = {}\n",
    "\n",
    "for writerID in json_data_a_dict:\n",
    "    for ans_ls in (json_data_a_dict[writerID]):\n",
    "        for ans in ans_ls[android_key]:\n",
    "            if (ans['questionUUID'] in all_question_UUID_ls):\n",
    "                if ans['answer'].startswith('{\"startTime'):\n",
    "                    answer_time_dict = json.loads(ans['answer'])\n",
    "                    startTime = answer_time_dict['startTime'] / 1000\n",
    "                    endTime = answer_time_dict['stopTime'] / 1000\n",
    "                    length = endTime - startTime\n",
    "                    activity_str = UUID_question_dict[ans['questionUUID']]\n",
    "                    activity_ls = activity_str.split(' ')\n",
    "                    try:\n",
    "                        activity = activity_ls[6] \n",
    "                        for i in activity_ls[activity_ls.index('and'): activity_ls.index('for')]:\n",
    "                            activity += ' ' + i\n",
    "\n",
    "                        if writerID not in json_data_a_dict_formatted:\n",
    "                            json_data_a_dict_formatted[writerID] = {}    \n",
    "                        if activity not in json_data_a_dict_formatted[writerID]:\n",
    "                            json_data_a_dict_formatted[writerID].update({activity: [[startTime, endTime]]})\n",
    "                        else:\n",
    "                            json_data_a_dict_formatted[writerID][activity].append([startTime, endTime])\n",
    "                    except:\n",
    "                        #print(activity_str)\n",
    "                        pass"
   ]
  },
  {
   "cell_type": "code",
   "execution_count": 20,
   "metadata": {},
   "outputs": [],
   "source": [
    "with open('json_data_i_dict_formatted.p', 'wb') as f:\n",
    "    pickle.dump(json_data_i_dict_formatted, f)"
   ]
  },
  {
   "cell_type": "code",
   "execution_count": 21,
   "metadata": {},
   "outputs": [],
   "source": [
    "with open('json_data_a_dict_formatted.p', 'wb') as f:\n",
    "    pickle.dump(json_data_a_dict_formatted, f)"
   ]
  },
  {
   "cell_type": "code",
   "execution_count": 22,
   "metadata": {},
   "outputs": [
    {
     "data": {
      "text/plain": [
       "{}"
      ]
     },
     "execution_count": 22,
     "metadata": {},
     "output_type": "execute_result"
    }
   ],
   "source": [
    "activity_count_dict = {}\n",
    "\n",
    "for writerID in json_data_i_dict_formatted:\n",
    "    activity_ls = json_data_i_dict_formatted[writerID].keys()\n",
    "    for activity in activity_ls:\n",
    "        if activity not in activity_count_dict:\n",
    "            activity_count_dict[activity] = 1\n",
    "        else:\n",
    "            activity_count_dict[activity] += 1\n",
    "            \n",
    "activity_count_dict"
   ]
  },
  {
   "cell_type": "code",
   "execution_count": 23,
   "metadata": {},
   "outputs": [
    {
     "data": {
      "text/plain": [
       "{'hand and sit': 85,\n",
       " 'hand and lie down': 94,\n",
       " 'hand and walk': 76,\n",
       " 'hand and stay standing (still)': 97,\n",
       " 'bag and sit': 43,\n",
       " 'bag and lie down': 40,\n",
       " 'bag and walk': 34,\n",
       " 'bag and stay standing (still)': 42,\n",
       " 'pocket and stay standing (still)': 53,\n",
       " 'pocket and walk': 37,\n",
       " 'pocket and lie down': 50,\n",
       " 'pocket and sit': 41}"
      ]
     },
     "execution_count": 23,
     "metadata": {},
     "output_type": "execute_result"
    }
   ],
   "source": [
    "activity_count_dict = {}\n",
    "\n",
    "for writerID in json_data_a_dict_formatted:\n",
    "    activity_ls = json_data_a_dict_formatted[writerID].keys()\n",
    "    for activity in activity_ls:\n",
    "        if activity not in activity_count_dict:\n",
    "            activity_count_dict[activity] = len(json_data_a_dict_formatted[writerID][activity])\n",
    "        else:\n",
    "            activity_count_dict[activity] += len(json_data_a_dict_formatted[writerID][activity])\n",
    "            \n",
    "activity_count_dict"
   ]
  },
  {
   "cell_type": "code",
   "execution_count": 24,
   "metadata": {},
   "outputs": [
    {
     "data": {
      "text/plain": [
       "([0, 1, 2, 3, 4, 5, 6, 7, 8, 9, 10, 11],\n",
       " <a list of 12 Text xticklabel objects>)"
      ]
     },
     "execution_count": 24,
     "metadata": {},
     "output_type": "execute_result"
    },
    {
     "data": {
      "image/png": "[encoded data removed]",
      "text/plain": [
       "<Figure size 432x288 with 1 Axes>"
      ]
     },
     "metadata": {
      "needs_background": "light"
     },
     "output_type": "display_data"
    }
   ],
   "source": [
    "plt.bar(activity_count_dict.keys(), activity_count_dict.values(), color='g')\n",
    "plt.xticks(rotation = 90)"
   ]
  },
  {
   "cell_type": "markdown",
   "metadata": {},
   "source": [
    "### create feature + label dataframe"
   ]
  },
  {
   "cell_type": "code",
   "execution_count": 25,
   "metadata": {},
   "outputs": [],
   "source": [
    "data_path = data_path = './downloads/trial'\n",
    "writerID_SensorDir = os.listdir(data_path)\n",
    "\n",
    "writerID_label30s = []\n",
    "for writerID in json_data_i_dict_formatted:\n",
    "    writerID_label30s.append(writerID)"
   ]
  },
  {
   "cell_type": "code",
   "execution_count": 26,
   "metadata": {},
   "outputs": [
    {
     "data": {
      "text/plain": [
       "0"
      ]
     },
     "execution_count": 26,
     "metadata": {},
     "output_type": "execute_result"
    }
   ],
   "source": [
    "len(writerID_label30s)"
   ]
  },
  {
   "cell_type": "code",
   "execution_count": 27,
   "metadata": {},
   "outputs": [
    {
     "data": {
      "text/plain": [
       "48"
      ]
     },
     "execution_count": 27,
     "metadata": {},
     "output_type": "execute_result"
    }
   ],
   "source": [
    "len(writerID_SensorDir)"
   ]
  },
  {
   "cell_type": "markdown",
   "metadata": {},
   "source": [
    "with open('writerID_label30s.npy', 'wb') as f:\n",
    "    np.save(f, writerID_label30s)"
   ]
  },
  {
   "cell_type": "code",
   "execution_count": 28,
   "metadata": {},
   "outputs": [],
   "source": [
    "writerIDs_candidate = list(set(writerID_SensorDir) & set(writerID_label30s))"
   ]
  },
  {
   "cell_type": "code",
   "execution_count": 29,
   "metadata": {},
   "outputs": [
    {
     "data": {
      "text/plain": [
       "0"
      ]
     },
     "execution_count": 29,
     "metadata": {},
     "output_type": "execute_result"
    }
   ],
   "source": [
    "len(writerIDs_candidate)"
   ]
  },
  {
   "cell_type": "markdown",
   "metadata": {
    "jupyter": {
     "outputs_hidden": true
    },
    "tags": []
   },
   "source": [
    "writer_label_sensor_dict = {}\n",
    "\n",
    "# each writer\n",
    "for writerID in writerIDs_candidate:\n",
    "    activity_ls = json_data_i_dict_formatted[writerID].keys()\n",
    "    \n",
    "    if writerID not in writer_label_sensor_dict:\n",
    "        writer_label_sensor_dict[writerID] = {}\n",
    "    \n",
    "    # each writer's each activity (now seeing one user has one activity)\n",
    "    for activity in activity_ls:\n",
    "        for trial in json_data_i_dict_formatted[writerID][activity]:\n",
    "            startTime= int(trial[0])\n",
    "            endTime= int(trial[1])\n",
    "\n",
    "            if activity not in writer_label_sensor_dict[writerID]:\n",
    "                writer_label_sensor_dict[writerID][activity] = {}\n",
    "\n",
    "            for file in os.listdir(f'{data_path}/{writerID}/'):\n",
    "                if file.startswith('i') and file.split('-')[3] != 'survey':\n",
    "                    sensor_type = file.split('-')[3]\n",
    "                    sensor_key = file.split('_')[0]\n",
    "                    \n",
    "                    with open(f'{data_path}/{writerID}/{file}') as f:    \n",
    "                        try:\n",
    "                            js = json.load(f)\n",
    "                        except:\n",
    "                            print(file)\n",
    "                            continue\n",
    "                        timeseries_ls = js[sensor_key]\n",
    "                        feature_ls = []\n",
    "                        \n",
    "                        first_timestamp = int(float(timeseries_ls[0]['timestamp']))\n",
    "                        last_timestamp = int(float(timeseries_ls[-1]['timestamp']))\n",
    "                    \n",
    "                        if first_timestamp < startTime and endTime < last_timestamp:\n",
    "                            #print(file)\n",
    "                            pass\n",
    "\n",
    "                        for timestamp in timeseries_ls:\n",
    "\n",
    "                            if int(startTime) < int(float(timestamp['timestamp'])) < int(endTime):\n",
    "                                feature_ls = list(timestamp.keys())\n",
    "                                feature_ls.remove('timestamp')\n",
    "                                \n",
    "                                for feature in feature_ls:\n",
    "                                    feature_full = sensor_type + '_' + feature\n",
    "                                    if feature_full not in writer_label_sensor_dict[writerID][activity]:\n",
    "                                        writer_label_sensor_dict[writerID][activity][feature_full] = [timestamp[feature]]\n",
    "                                    else:\n",
    "                                        writer_label_sensor_dict[writerID][activity][feature_full].append(timestamp[feature])\n",
    "                                        \n",
    "                        if feature_ls:\n",
    "                            #print(feature_ls)\n",
    "                            pass"
   ]
  },
  {
   "cell_type": "markdown",
   "metadata": {},
   "source": [
    "with open('writer_label_sensor_dict.p', 'wb') as f:\n",
    "    pickle.dump(writer_label_sensor_dict, f)"
   ]
  },
  {
   "cell_type": "code",
   "execution_count": 30,
   "metadata": {},
   "outputs": [],
   "source": [
    "with open('writer_label_sensor_dict.p', 'rb') as f:\n",
    "    writer_label_sensor_dict = pickle.load(f)"
   ]
  },
  {
   "cell_type": "code",
   "execution_count": 31,
   "metadata": {
    "tags": []
   },
   "outputs": [],
   "source": [
    "writer_label_sensor_dict_filtered = {}\n",
    "\n",
    "# filter to only have 3 main features\n",
    "\n",
    "for writerID in writer_label_sensor_dict.keys():\n",
    "    for activity in writer_label_sensor_dict[writerID].keys():\n",
    "        featureName_ls = []\n",
    "        for feature_full in writer_label_sensor_dict[writerID][activity].keys():\n",
    "            featureName_ls.append(feature_full.split('_')[0])\n",
    "        featureName_ls = list(set(featureName_ls))\n",
    "        \n",
    "        featureCandidates = ['accelerometer', 'magnetometer', 'gyroscope']\n",
    "        \n",
    "        # write to new dict if 3 main features exist\n",
    "        if all(featureCan in featureName_ls for featureCan in featureCandidates):\n",
    "            \n",
    "            # check if writerID in\n",
    "            if writerID not in writer_label_sensor_dict_filtered:\n",
    "                writer_label_sensor_dict_filtered[writerID] = {}\n",
    "                \n",
    "            # check if activity in\n",
    "            if activity not in writer_label_sensor_dict_filtered[writerID]:\n",
    "                writer_label_sensor_dict_filtered[writerID].update({activity: {}})\n",
    "                \n",
    "                # only write those 3 features to new dict  \n",
    "                for feature_fullname in writer_label_sensor_dict[writerID][activity].keys():\n",
    "                    if feature_fullname.split('_')[0] in featureCandidates:\n",
    "                        feature_name = feature_fullname.split('_')[0] + '_' + feature_fullname.split('_')[-1]\n",
    "                        writer_label_sensor_dict_filtered[writerID][activity].update({feature_name: \n",
    "                                                                                      writer_label_sensor_dict[writerID][activity][feature_fullname]})\n",
    "            else:\n",
    "                # only write those 3 features to new dict    \n",
    "                for feature_fullname in writer_label_sensor_dict[writerID][activity].keys():\n",
    "                    if feature_fullname.split('_')[0] in featureCandidates:\n",
    "                        feature_name = feature_fullname.split('_')[0] + '_' + feature_fullname.split('_')[-1]\n",
    "                        writer_label_sensor_dict_filtered[writerID][activity].update({feature_name: \n",
    "                                                                                      writer_label_sensor_dict[writerID][activity][feature_fullname]})"
   ]
  },
  {
   "cell_type": "markdown",
   "metadata": {
    "jupyter": {
     "outputs_hidden": true
    },
    "tags": []
   },
   "source": [
    "i = 0\n",
    "for writerID in writer_label_feature_dict.keys():\n",
    "    for activity in writer_label_feature_dict[writerID].keys():\n",
    "        i = i + 1\n",
    "        for feature_fullname in writer_label_feature_dict[writerID][activity].keys():\n",
    "            \n",
    "            print(feature_fullname, len(writer_label_feature_dict[writerID][activity][feature_fullname]))\n",
    "print(i)"
   ]
  },
  {
   "cell_type": "code",
   "execution_count": 32,
   "metadata": {
    "tags": []
   },
   "outputs": [
    {
     "name": "stdout",
     "output_type": "stream",
     "text": [
      "a2fffd3e-54fa-42bc-91b4-be76794120e4\n"
     ]
    },
    {
     "name": "stderr",
     "output_type": "stream",
     "text": [
      "/home/grads/g/guangzhou92/miniconda3/envs/py36/lib/python3.6/site-packages/ipykernel_launcher.py:19: UserWarning: Using default sampling frequency set in configuration file.\n"
     ]
    },
    {
     "name": "stdout",
     "output_type": "stream",
     "text": [
      "b76c29ad-8f0b-4c9a-8439-cc1e2a757b46\n",
      "e1da6990-90bd-4234-90b0-a386d8f23a63\n",
      "1cabfadf-8cc2-4f1f-8340-742ab22b82cc\n",
      "4e720d5b-3b76-4d54-8dbf-196f0dae81ea\n",
      "4e720d5b-3b76-4d54-8dbf-196f0dae81ea hand and stay standing (still) magnetometer_y 3\n"
     ]
    },
    {
     "ename": "RuntimeError",
     "evalue": "dictionary changed size during iteration",
     "output_type": "error",
     "traceback": [
      "\u001b[0;31m---------------------------------------------------------------------------\u001b[0m",
      "\u001b[0;31mRuntimeError\u001b[0m                              Traceback (most recent call last)",
      "\u001b[0;32m<ipython-input-32-34c37c3b473a>\u001b[0m in \u001b[0;36m<module>\u001b[0;34m\u001b[0m\n\u001b[1;32m      8\u001b[0m         \u001b[0mwriter_label_feature_dict\u001b[0m\u001b[0;34m[\u001b[0m\u001b[0mwriterID\u001b[0m\u001b[0;34m]\u001b[0m \u001b[0;34m=\u001b[0m \u001b[0;34m{\u001b[0m\u001b[0;34m}\u001b[0m\u001b[0;34m\u001b[0m\u001b[0;34m\u001b[0m\u001b[0m\n\u001b[1;32m      9\u001b[0m \u001b[0;34m\u001b[0m\u001b[0m\n\u001b[0;32m---> 10\u001b[0;31m     \u001b[0;32mfor\u001b[0m \u001b[0mactivity\u001b[0m \u001b[0;32min\u001b[0m \u001b[0mwriter_label_sensor_dict_filtered\u001b[0m\u001b[0;34m[\u001b[0m\u001b[0mwriterID\u001b[0m\u001b[0;34m]\u001b[0m\u001b[0;34m.\u001b[0m\u001b[0mkeys\u001b[0m\u001b[0;34m(\u001b[0m\u001b[0;34m)\u001b[0m\u001b[0;34m:\u001b[0m\u001b[0;34m\u001b[0m\u001b[0;34m\u001b[0m\u001b[0m\n\u001b[0m\u001b[1;32m     11\u001b[0m         \u001b[0;32mif\u001b[0m \u001b[0mactivity\u001b[0m \u001b[0;32mnot\u001b[0m \u001b[0;32min\u001b[0m \u001b[0mwriter_label_feature_dict\u001b[0m\u001b[0;34m[\u001b[0m\u001b[0mwriterID\u001b[0m\u001b[0;34m]\u001b[0m\u001b[0;34m:\u001b[0m\u001b[0;34m\u001b[0m\u001b[0;34m\u001b[0m\u001b[0m\n\u001b[1;32m     12\u001b[0m             \u001b[0mwriter_label_feature_dict\u001b[0m\u001b[0;34m[\u001b[0m\u001b[0mwriterID\u001b[0m\u001b[0;34m]\u001b[0m\u001b[0;34m.\u001b[0m\u001b[0mupdate\u001b[0m\u001b[0;34m(\u001b[0m\u001b[0;34m{\u001b[0m\u001b[0mactivity\u001b[0m\u001b[0;34m:\u001b[0m \u001b[0;34m{\u001b[0m\u001b[0;34m}\u001b[0m\u001b[0;34m}\u001b[0m\u001b[0;34m)\u001b[0m\u001b[0;34m\u001b[0m\u001b[0;34m\u001b[0m\u001b[0m\n",
      "\u001b[0;31mRuntimeError\u001b[0m: dictionary changed size during iteration"
     ]
    }
   ],
   "source": [
    "cfg = tsfel.get_features_by_domain(\"statistical\")\n",
    "\n",
    "writer_label_feature_dict = {}\n",
    "\n",
    "for writerID in writer_label_sensor_dict_filtered.keys():\n",
    "    print(writerID)\n",
    "    if writerID not in writer_label_feature_dict:\n",
    "        writer_label_feature_dict[writerID] = {}\n",
    "    \n",
    "    for activity in writer_label_sensor_dict_filtered[writerID].keys():\n",
    "        if activity not in writer_label_feature_dict[writerID]:\n",
    "            writer_label_feature_dict[writerID].update({activity: {}})\n",
    "        \n",
    "        for feature_fullname in writer_label_sensor_dict_filtered[writerID][activity].keys():\n",
    "            try:\n",
    "                extracted_feature = \\\n",
    "                tsfel.time_series_features_extractor(cfg, \n",
    "                                                     writer_label_sensor_dict_filtered[writerID][activity][feature_fullname], \n",
    "                                                     verbose =0)\n",
    "                \n",
    "                # normalize\n",
    "                extracted_feature_v = extracted_feature.values.reshape(-1,)\n",
    "                extracted_feature_n = extracted_feature_v / np.sqrt(np.sum(extracted_feature_v**2))\n",
    "                \n",
    "                if feature_fullname not in writer_label_feature_dict[writerID][activity]:\n",
    "                    writer_label_feature_dict[writerID][activity][feature_fullname] = extracted_feature_n\n",
    "                    \n",
    "                    if len(extracted_feature_n) != 36:\n",
    "                        print([writerID,activity,feature_fullname], end=' ')\n",
    "                \n",
    "            except:\n",
    "                print(writerID, activity, feature_fullname, \n",
    "                      len(writer_label_sensor_dict_filtered[writerID][activity][feature_fullname]))\n",
    "                del writer_label_sensor_dict_filtered[writerID][activity]\n",
    "                break"
   ]
  },
  {
   "cell_type": "code",
   "execution_count": null,
   "metadata": {},
   "outputs": [],
   "source": [
    "featureCandidates = ['accelerometer', 'magnetometer', 'gyroscope']\n",
    "axes = ['x', 'y', 'z']\n",
    "\n",
    "sensor_features = []\n",
    "\n",
    "for feature in featureCandidates:\n",
    "    for axis in axes:\n",
    "        sensor_features.append(feature + '_' + axis)"
   ]
  },
  {
   "cell_type": "code",
   "execution_count": null,
   "metadata": {},
   "outputs": [
    {
     "data": {
      "text/plain": [
       "['accelerometer_x',\n",
       " 'accelerometer_y',\n",
       " 'accelerometer_z',\n",
       " 'magnetometer_x',\n",
       " 'magnetometer_y',\n",
       " 'magnetometer_z',\n",
       " 'gyroscope_x',\n",
       " 'gyroscope_y',\n",
       " 'gyroscope_z']"
      ]
     },
     "execution_count": 324,
     "metadata": {},
     "output_type": "execute_result"
    }
   ],
   "source": [
    "sensor_features"
   ]
  },
  {
   "cell_type": "code",
   "execution_count": null,
   "metadata": {},
   "outputs": [],
   "source": [
    "writer_label_feature_dict[writerID][activity].update({'features': extracted_feature.columns})\n",
    "\n",
    "df =  pd.DataFrame.from_dict(writer_label_feature_dict[writerID][activity])\n",
    "\n",
    "df = df.set_index('features')\n",
    "columns = df.columns\n",
    "indexes = df.index\n",
    "\n",
    "featurename_ls = []\n",
    "values = []\n",
    "for column in sensor_features:\n",
    "    for index in indexes:\n",
    "        featurename_ls.append(column+index[1:])\n",
    "        values.append(df[column][index])"
   ]
  },
  {
   "cell_type": "code",
   "execution_count": null,
   "metadata": {
    "tags": []
   },
   "outputs": [
    {
     "name": "stdout",
     "output_type": "stream",
     "text": [
      "f0472b67-ae6a-499c-8e10-44f765a329e2 pocket and walk gyroscope_x 36\n",
      "f0472b67-ae6a-499c-8e10-44f765a329e2 pocket and walk gyroscope_x 36\n",
      "f0472b67-ae6a-499c-8e10-44f765a329e2 pocket and walk gyroscope_x 36\n",
      "f0472b67-ae6a-499c-8e10-44f765a329e2 pocket and walk gyroscope_x 36\n",
      "f0472b67-ae6a-499c-8e10-44f765a329e2 pocket and walk gyroscope_x 36\n",
      "f0472b67-ae6a-499c-8e10-44f765a329e2 pocket and walk gyroscope_x 36\n",
      "f0472b67-ae6a-499c-8e10-44f765a329e2 pocket and walk gyroscope_x 35\n",
      "f0472b67-ae6a-499c-8e10-44f765a329e2 pocket and walk gyroscope_x 35\n",
      "f0472b67-ae6a-499c-8e10-44f765a329e2 pocket and walk gyroscope_x 35\n",
      "f0472b67-ae6a-499c-8e10-44f765a329e2 pocket and walk gyroscope_x 36\n"
     ]
    }
   ],
   "source": [
    "df_all  = pd.DataFrame(columns=featurename_ls)\n",
    "label_ls = []\n",
    "activity_ls = []\n",
    "phone_ls = []\n",
    "\n",
    "for writerID in writer_label_feature_dict.keys():\n",
    "    for activity in writer_label_feature_dict[writerID].keys():\n",
    "\n",
    "        # each activity dict to df\n",
    "        writer_label_feature_dict[writerID][activity].update({'features': extracted_feature.columns})\n",
    "        try:\n",
    "            df =  pd.DataFrame.from_dict(writer_label_feature_dict[writerID][activity])\n",
    "            label_ls.append(activity)\n",
    "            activity_ls.append(activity.split(' and ')[1])\n",
    "            phone_ls.append(activity.split(' and ')[0])\n",
    "        except:\n",
    "            for feature in writer_label_feature_dict[writerID][activity]:\n",
    "                print(writerID,activity,feature_fullname, end=' ') \n",
    "                print(len(writer_label_feature_dict[writerID][activity][feature]))\n",
    "            continue\n",
    "            \n",
    "        df = df.set_index('features')\n",
    "        \n",
    "        columns = df.columns\n",
    "        indexes = df.index\n",
    "\n",
    "        featurename_ls = []\n",
    "        values = []\n",
    "        for column in sensor_features:\n",
    "            for index in indexes:\n",
    "                featurename_ls.append(column+index[1:])\n",
    "                values.append(df[column][index])\n",
    "        \n",
    "        if (list(featurename_ls) == list(df_all.columns)):\n",
    "            df_new = pd.DataFrame(np.array(values).reshape(1,-1), columns=featurename_ls)\n",
    "            df_all = df_all.append(df_new)\n",
    "\n",
    "df_all['label'] = label_ls\n",
    "df_all['activity'] = activity_ls\n",
    "df_all['phone'] = phone_ls"
   ]
  },
  {
   "cell_type": "code",
   "execution_count": null,
   "metadata": {},
   "outputs": [
    {
     "data": {
      "text/plain": [
       "(array(['bag and lie down', 'bag and sit', 'bag and stay standing (still)',\n",
       "        'bag and walk', 'hand and lie down', 'hand and sit',\n",
       "        'hand and stay standing (still)', 'hand and walk',\n",
       "        'pocket and lie down', 'pocket and sit',\n",
       "        'pocket and stay standing (still)', 'pocket and walk'],\n",
       "       dtype=object), array([ 4,  4,  3,  3, 17, 15, 15, 16, 10, 10, 14, 13]))"
      ]
     },
     "execution_count": 195,
     "metadata": {},
     "output_type": "execute_result"
    }
   ],
   "source": [
    "np.unique(df_all['label'],return_counts=True)"
   ]
  },
  {
   "cell_type": "code",
   "execution_count": null,
   "metadata": {},
   "outputs": [],
   "source": [
    "df_all.to_csv('df_all.csv', index=False)"
   ]
  },
  {
   "cell_type": "markdown",
   "metadata": {},
   "source": [
    "### basic ML to train/test"
   ]
  },
  {
   "cell_type": "code",
   "execution_count": null,
   "metadata": {},
   "outputs": [],
   "source": [
    "df = pd.read_csv('df_all.csv')\n",
    "\n",
    "outcome = ['label', 'phone', 'activity']\n",
    "add_phone_context = True\n",
    "\n",
    "if add_phone_context:\n",
    "    df = pd.concat([df, pd.get_dummies(df['phone'])], axis=1)\n",
    "\n",
    "skf = StratifiedKFold(n_splits=5, shuffle=True)\n",
    "\n",
    "labels = df['activity'].copy()\n",
    "df.drop(columns=outcome, inplace=True)\n",
    "\n",
    "#labels = pd.get_dummies(labels.to_frame())"
   ]
  },
  {
   "cell_type": "code",
   "execution_count": null,
   "metadata": {
    "tags": []
   },
   "outputs": [
    {
     "name": "stdout",
     "output_type": "stream",
     "text": [
      "Fold 0: Accuracy: 48.00%\n",
      "Fold 1: Accuracy: 44.00%\n",
      "Fold 2: Accuracy: 48.00%\n",
      "Fold 3: Accuracy: 36.00%\n",
      "Fold 4: Accuracy: 50.00%\n"
     ]
    }
   ],
   "source": [
    "lc = LabelEncoder() \n",
    "lc.fit(labels) \n",
    "\n",
    "for i, (train, test) in enumerate(skf.split(df, labels)):\n",
    "    print(f'Fold {i}: ', end='')\n",
    "    train_data = df.iloc[train].copy()\n",
    "    test_data = df.iloc[test].copy()\n",
    "    \n",
    "    \n",
    "    labels_encoded = lc.transform(labels)\n",
    "    train_labels=labels_encoded[train]\n",
    "    test_labels=labels_encoded[test]\n",
    "    #print(labels)\n",
    "    #print(labels_encoded)\n",
    "    \n",
    "    model = XGBClassifier(objective= 'multi:softprob') \n",
    "\n",
    "    model.fit(train_data, train_labels)\n",
    "    \n",
    "    y_pred = model.predict(test_data) \n",
    "    predictions = [round(value) for value in y_pred]\n",
    "    \n",
    "    accuracy = accuracy_score(test_labels, predictions) \n",
    "    #accuracy = precision_score(test_labels, best_preds, average='macro')\n",
    "\n",
    "    print(\"Accuracy: %.2f%%\" % (accuracy * 100.0))"
   ]
  },
  {
   "cell_type": "code",
   "execution_count": null,
   "metadata": {},
   "outputs": [
    {
     "data": {
      "text/plain": [
       "[2, 3, 0, 0, 1, 2, 2, 3, 1, 3, 3, 3, 1, 0, 0, 0, 0, 1, 2, 1, 0, 3, 2, 2]"
      ]
     },
     "execution_count": 400,
     "metadata": {},
     "output_type": "execute_result"
    }
   ],
   "source": [
    "list(test_labels)"
   ]
  },
  {
   "cell_type": "code",
   "execution_count": null,
   "metadata": {},
   "outputs": [
    {
     "data": {
      "text/plain": [
       "[2, 3, 0, 3, 2, 0, 1, 3, 0, 0, 2, 3, 2, 0, 2, 2, 0, 0, 3, 1, 0, 3, 2, 2]"
      ]
     },
     "execution_count": 401,
     "metadata": {},
     "output_type": "execute_result"
    }
   ],
   "source": [
    "predictions"
   ]
  },
  {
   "cell_type": "code",
   "execution_count": null,
   "metadata": {},
   "outputs": [
    {
     "data": {
      "image/png": "[encoded data removed]",
      "text/plain": [
       "<Figure size 576x576 with 2 Axes>"
      ]
     },
     "metadata": {
      "needs_background": "light"
     },
     "output_type": "display_data"
    }
   ],
   "source": [
    "fig, ax = plt.subplots(figsize=(8, 8))\n",
    "disp = plot_confusion_matrix(model, test_data, test_labels,\n",
    "                                 display_labels=np.unique(labels),\n",
    "                                 cmap=plt.cm.Blues,\n",
    "                                 ax=ax)"
   ]
  },
  {
   "cell_type": "code",
   "execution_count": null,
   "metadata": {},
   "outputs": [
    {
     "name": "stdout",
     "output_type": "stream",
     "text": [
      "Fold 0: "
     ]
    },
    {
     "ename": "ValueError",
     "evalue": "Classification metrics can't handle a mix of multilabel-indicator and binary targets",
     "output_type": "error",
     "traceback": [
      "\u001b[0;31m---------------------------------------------------------------------------\u001b[0m",
      "\u001b[0;31mValueError\u001b[0m                                Traceback (most recent call last)",
      "\u001b[0;32m<ipython-input-296-8fceb12b7370>\u001b[0m in \u001b[0;36m<module>\u001b[0;34m\u001b[0m\n\u001b[1;32m     28\u001b[0m     \u001b[0mbest_preds\u001b[0m \u001b[0;34m=\u001b[0m \u001b[0mnp\u001b[0m\u001b[0;34m.\u001b[0m\u001b[0masarray\u001b[0m\u001b[0;34m(\u001b[0m\u001b[0;34m[\u001b[0m\u001b[0mnp\u001b[0m\u001b[0;34m.\u001b[0m\u001b[0margmax\u001b[0m\u001b[0;34m(\u001b[0m\u001b[0mline\u001b[0m\u001b[0;34m)\u001b[0m \u001b[0;32mfor\u001b[0m \u001b[0mline\u001b[0m \u001b[0;32min\u001b[0m \u001b[0mpreds\u001b[0m\u001b[0;34m]\u001b[0m\u001b[0;34m)\u001b[0m\u001b[0;34m\u001b[0m\u001b[0;34m\u001b[0m\u001b[0m\n\u001b[1;32m     29\u001b[0m \u001b[0;34m\u001b[0m\u001b[0m\n\u001b[0;32m---> 30\u001b[0;31m     \u001b[0mprint\u001b[0m\u001b[0;34m(\u001b[0m\u001b[0mprecision_score\u001b[0m\u001b[0;34m(\u001b[0m\u001b[0mtest_labels\u001b[0m\u001b[0;34m,\u001b[0m \u001b[0mbest_preds\u001b[0m\u001b[0;34m,\u001b[0m \u001b[0maverage\u001b[0m\u001b[0;34m=\u001b[0m\u001b[0;34m'macro'\u001b[0m\u001b[0;34m)\u001b[0m\u001b[0;34m)\u001b[0m\u001b[0;34m\u001b[0m\u001b[0;34m\u001b[0m\u001b[0m\n\u001b[0m",
      "\u001b[0;32m~/enter/envs/py36/lib/python3.6/site-packages/sklearn/utils/validation.py\u001b[0m in \u001b[0;36minner_f\u001b[0;34m(*args, **kwargs)\u001b[0m\n\u001b[1;32m     70\u001b[0m                           FutureWarning)\n\u001b[1;32m     71\u001b[0m         \u001b[0mkwargs\u001b[0m\u001b[0;34m.\u001b[0m\u001b[0mupdate\u001b[0m\u001b[0;34m(\u001b[0m\u001b[0;34m{\u001b[0m\u001b[0mk\u001b[0m\u001b[0;34m:\u001b[0m \u001b[0marg\u001b[0m \u001b[0;32mfor\u001b[0m \u001b[0mk\u001b[0m\u001b[0;34m,\u001b[0m \u001b[0marg\u001b[0m \u001b[0;32min\u001b[0m \u001b[0mzip\u001b[0m\u001b[0;34m(\u001b[0m\u001b[0msig\u001b[0m\u001b[0;34m.\u001b[0m\u001b[0mparameters\u001b[0m\u001b[0;34m,\u001b[0m \u001b[0margs\u001b[0m\u001b[0;34m)\u001b[0m\u001b[0;34m}\u001b[0m\u001b[0;34m)\u001b[0m\u001b[0;34m\u001b[0m\u001b[0;34m\u001b[0m\u001b[0m\n\u001b[0;32m---> 72\u001b[0;31m         \u001b[0;32mreturn\u001b[0m \u001b[0mf\u001b[0m\u001b[0;34m(\u001b[0m\u001b[0;34m**\u001b[0m\u001b[0mkwargs\u001b[0m\u001b[0;34m)\u001b[0m\u001b[0;34m\u001b[0m\u001b[0;34m\u001b[0m\u001b[0m\n\u001b[0m\u001b[1;32m     73\u001b[0m     \u001b[0;32mreturn\u001b[0m \u001b[0minner_f\u001b[0m\u001b[0;34m\u001b[0m\u001b[0;34m\u001b[0m\u001b[0m\n\u001b[1;32m     74\u001b[0m \u001b[0;34m\u001b[0m\u001b[0m\n",
      "\u001b[0;32m~/enter/envs/py36/lib/python3.6/site-packages/sklearn/metrics/_classification.py\u001b[0m in \u001b[0;36mprecision_score\u001b[0;34m(y_true, y_pred, labels, pos_label, average, sample_weight, zero_division)\u001b[0m\n\u001b[1;32m   1621\u001b[0m                                                  \u001b[0mwarn_for\u001b[0m\u001b[0;34m=\u001b[0m\u001b[0;34m(\u001b[0m\u001b[0;34m'precision'\u001b[0m\u001b[0;34m,\u001b[0m\u001b[0;34m)\u001b[0m\u001b[0;34m,\u001b[0m\u001b[0;34m\u001b[0m\u001b[0;34m\u001b[0m\u001b[0m\n\u001b[1;32m   1622\u001b[0m                                                  \u001b[0msample_weight\u001b[0m\u001b[0;34m=\u001b[0m\u001b[0msample_weight\u001b[0m\u001b[0;34m,\u001b[0m\u001b[0;34m\u001b[0m\u001b[0;34m\u001b[0m\u001b[0m\n\u001b[0;32m-> 1623\u001b[0;31m                                                  zero_division=zero_division)\n\u001b[0m\u001b[1;32m   1624\u001b[0m     \u001b[0;32mreturn\u001b[0m \u001b[0mp\u001b[0m\u001b[0;34m\u001b[0m\u001b[0;34m\u001b[0m\u001b[0m\n\u001b[1;32m   1625\u001b[0m \u001b[0;34m\u001b[0m\u001b[0m\n",
      "\u001b[0;32m~/enter/envs/py36/lib/python3.6/site-packages/sklearn/utils/validation.py\u001b[0m in \u001b[0;36minner_f\u001b[0;34m(*args, **kwargs)\u001b[0m\n\u001b[1;32m     70\u001b[0m                           FutureWarning)\n\u001b[1;32m     71\u001b[0m         \u001b[0mkwargs\u001b[0m\u001b[0;34m.\u001b[0m\u001b[0mupdate\u001b[0m\u001b[0;34m(\u001b[0m\u001b[0;34m{\u001b[0m\u001b[0mk\u001b[0m\u001b[0;34m:\u001b[0m \u001b[0marg\u001b[0m \u001b[0;32mfor\u001b[0m \u001b[0mk\u001b[0m\u001b[0;34m,\u001b[0m \u001b[0marg\u001b[0m \u001b[0;32min\u001b[0m \u001b[0mzip\u001b[0m\u001b[0;34m(\u001b[0m\u001b[0msig\u001b[0m\u001b[0;34m.\u001b[0m\u001b[0mparameters\u001b[0m\u001b[0;34m,\u001b[0m \u001b[0margs\u001b[0m\u001b[0;34m)\u001b[0m\u001b[0;34m}\u001b[0m\u001b[0;34m)\u001b[0m\u001b[0;34m\u001b[0m\u001b[0;34m\u001b[0m\u001b[0m\n\u001b[0;32m---> 72\u001b[0;31m         \u001b[0;32mreturn\u001b[0m \u001b[0mf\u001b[0m\u001b[0;34m(\u001b[0m\u001b[0;34m**\u001b[0m\u001b[0mkwargs\u001b[0m\u001b[0;34m)\u001b[0m\u001b[0;34m\u001b[0m\u001b[0;34m\u001b[0m\u001b[0m\n\u001b[0m\u001b[1;32m     73\u001b[0m     \u001b[0;32mreturn\u001b[0m \u001b[0minner_f\u001b[0m\u001b[0;34m\u001b[0m\u001b[0;34m\u001b[0m\u001b[0m\n\u001b[1;32m     74\u001b[0m \u001b[0;34m\u001b[0m\u001b[0m\n",
      "\u001b[0;32m~/enter/envs/py36/lib/python3.6/site-packages/sklearn/metrics/_classification.py\u001b[0m in \u001b[0;36mprecision_recall_fscore_support\u001b[0;34m(y_true, y_pred, beta, labels, pos_label, average, warn_for, sample_weight, zero_division)\u001b[0m\n\u001b[1;32m   1432\u001b[0m         \u001b[0;32mraise\u001b[0m \u001b[0mValueError\u001b[0m\u001b[0;34m(\u001b[0m\u001b[0;34m\"beta should be >=0 in the F-beta score\"\u001b[0m\u001b[0;34m)\u001b[0m\u001b[0;34m\u001b[0m\u001b[0;34m\u001b[0m\u001b[0m\n\u001b[1;32m   1433\u001b[0m     labels = _check_set_wise_labels(y_true, y_pred, average, labels,\n\u001b[0;32m-> 1434\u001b[0;31m                                     pos_label)\n\u001b[0m\u001b[1;32m   1435\u001b[0m \u001b[0;34m\u001b[0m\u001b[0m\n\u001b[1;32m   1436\u001b[0m     \u001b[0;31m# Calculate tp_sum, pred_sum, true_sum ###\u001b[0m\u001b[0;34m\u001b[0m\u001b[0;34m\u001b[0m\u001b[0;34m\u001b[0m\u001b[0m\n",
      "\u001b[0;32m~/enter/envs/py36/lib/python3.6/site-packages/sklearn/metrics/_classification.py\u001b[0m in \u001b[0;36m_check_set_wise_labels\u001b[0;34m(y_true, y_pred, average, labels, pos_label)\u001b[0m\n\u001b[1;32m   1248\u001b[0m                          str(average_options))\n\u001b[1;32m   1249\u001b[0m \u001b[0;34m\u001b[0m\u001b[0m\n\u001b[0;32m-> 1250\u001b[0;31m     \u001b[0my_type\u001b[0m\u001b[0;34m,\u001b[0m \u001b[0my_true\u001b[0m\u001b[0;34m,\u001b[0m \u001b[0my_pred\u001b[0m \u001b[0;34m=\u001b[0m \u001b[0m_check_targets\u001b[0m\u001b[0;34m(\u001b[0m\u001b[0my_true\u001b[0m\u001b[0;34m,\u001b[0m \u001b[0my_pred\u001b[0m\u001b[0;34m)\u001b[0m\u001b[0;34m\u001b[0m\u001b[0;34m\u001b[0m\u001b[0m\n\u001b[0m\u001b[1;32m   1251\u001b[0m     \u001b[0mpresent_labels\u001b[0m \u001b[0;34m=\u001b[0m \u001b[0munique_labels\u001b[0m\u001b[0;34m(\u001b[0m\u001b[0my_true\u001b[0m\u001b[0;34m,\u001b[0m \u001b[0my_pred\u001b[0m\u001b[0;34m)\u001b[0m\u001b[0;34m\u001b[0m\u001b[0;34m\u001b[0m\u001b[0m\n\u001b[1;32m   1252\u001b[0m     \u001b[0;32mif\u001b[0m \u001b[0maverage\u001b[0m \u001b[0;34m==\u001b[0m \u001b[0;34m'binary'\u001b[0m\u001b[0;34m:\u001b[0m\u001b[0;34m\u001b[0m\u001b[0;34m\u001b[0m\u001b[0m\n",
      "\u001b[0;32m~/enter/envs/py36/lib/python3.6/site-packages/sklearn/metrics/_classification.py\u001b[0m in \u001b[0;36m_check_targets\u001b[0;34m(y_true, y_pred)\u001b[0m\n\u001b[1;32m     89\u001b[0m     \u001b[0;32mif\u001b[0m \u001b[0mlen\u001b[0m\u001b[0;34m(\u001b[0m\u001b[0my_type\u001b[0m\u001b[0;34m)\u001b[0m \u001b[0;34m>\u001b[0m \u001b[0;36m1\u001b[0m\u001b[0;34m:\u001b[0m\u001b[0;34m\u001b[0m\u001b[0;34m\u001b[0m\u001b[0m\n\u001b[1;32m     90\u001b[0m         raise ValueError(\"Classification metrics can't handle a mix of {0} \"\n\u001b[0;32m---> 91\u001b[0;31m                          \"and {1} targets\".format(type_true, type_pred))\n\u001b[0m\u001b[1;32m     92\u001b[0m \u001b[0;34m\u001b[0m\u001b[0m\n\u001b[1;32m     93\u001b[0m     \u001b[0;31m# We can't have more than one value on y_type => The set is no more needed\u001b[0m\u001b[0;34m\u001b[0m\u001b[0;34m\u001b[0m\u001b[0;34m\u001b[0m\u001b[0m\n",
      "\u001b[0;31mValueError\u001b[0m: Classification metrics can't handle a mix of multilabel-indicator and binary targets"
     ]
    }
   ],
   "source": [
    "for i, (train, test) in enumerate(skf.split(df, labels)):\n",
    "    print(f'Fold {i}: ', end='')\n",
    "    train_data = df.iloc[train].copy()\n",
    "    test_data = df.iloc[test].copy()\n",
    "\n",
    "    labels = pd.get_dummies(labels.to_frame())\n",
    "    train_labels=labels.iloc[train].copy()\n",
    "    test_labels=labels.iloc[test].copy()\n",
    "    \n",
    "    \n",
    "    #train_labels = pd.get_dummies(train_labels).values\n",
    "    #test_labels = pd.get_dummies(test_labels).values\n",
    "    \n",
    "    dtrain = xgb.DMatrix(train_data, label=train_labels.values)\n",
    "    dtest = xgb.DMatrix(test_data, label=test_labels.values)\n",
    "    \n",
    "    param = {\n",
    "    'max_depth': 30,  # the maximum depth of each tree\n",
    "    'eta': 0.3,  # the training step for each iteration\n",
    "    'silent': 1,  # logging mode - quiet\n",
    "    'objective': 'multi:softprob',  # error evaluation for multiclass training\n",
    "    'num_class': 4}  # the number of classes that exist in this datset\n",
    "    num_round = 20  # the number of training iterations\n",
    "\n",
    "    bst = xgb.train(param, dtrain, num_round)\n",
    "    \n",
    "    preds = bst.predict(dtest)\n",
    "    best_preds = np.asarray([np.argmax(line) for line in preds])\n",
    "    \n",
    "    print(precision_score(test_labels, best_preds, average='macro'))"
   ]
  },
  {
   "cell_type": "code",
   "execution_count": null,
   "metadata": {},
   "outputs": [
    {
     "data": {
      "text/plain": [
       "array([[0.8456546 , 0.07578368, 0.00982021, 0.00982021, 0.00982021,\n",
       "        0.00982021, 0.00982021, 0.00982021, 0.00982021, 0.00982021],\n",
       "       [0.9632511 , 0.02721155, 0.00119217, 0.00119217, 0.00119217,\n",
       "        0.00119217, 0.00119217, 0.00119217, 0.00119217, 0.00119217],\n",
       "       [0.836715  , 0.05655998, 0.01334063, 0.01334063, 0.01334063,\n",
       "        0.01334063, 0.01334063, 0.01334063, 0.01334063, 0.01334063],\n",
       "       [0.86214066, 0.07769257, 0.00752085, 0.00752085, 0.00752085,\n",
       "        0.00752085, 0.00752085, 0.00752085, 0.00752085, 0.00752085],\n",
       "       [0.91074526, 0.02748568, 0.00772113, 0.00772113, 0.00772113,\n",
       "        0.00772113, 0.00772113, 0.00772113, 0.00772113, 0.00772113],\n",
       "       [0.9466725 , 0.02082576, 0.00406272, 0.00406272, 0.00406272,\n",
       "        0.00406272, 0.00406272, 0.00406272, 0.00406272, 0.00406272],\n",
       "       [0.5961928 , 0.21265203, 0.0238944 , 0.0238944 , 0.0238944 ,\n",
       "        0.0238944 , 0.0238944 , 0.0238944 , 0.0238944 , 0.0238944 ],\n",
       "       [0.79330134, 0.16853033, 0.00477104, 0.00477104, 0.00477104,\n",
       "        0.00477104, 0.00477104, 0.00477104, 0.00477104, 0.00477104],\n",
       "       [0.95600706, 0.02983613, 0.00176961, 0.00176961, 0.00176961,\n",
       "        0.00176961, 0.00176961, 0.00176961, 0.00176961, 0.00176961],\n",
       "       [0.5910994 , 0.38468328, 0.00302717, 0.00302717, 0.00302717,\n",
       "        0.00302717, 0.00302717, 0.00302717, 0.00302717, 0.00302717],\n",
       "       [0.9506794 , 0.03524265, 0.00175974, 0.00175974, 0.00175974,\n",
       "        0.00175974, 0.00175974, 0.00175974, 0.00175974, 0.00175974],\n",
       "       [0.96580786, 0.01183129, 0.0027951 , 0.0027951 , 0.0027951 ,\n",
       "        0.0027951 , 0.0027951 , 0.0027951 , 0.0027951 , 0.0027951 ],\n",
       "       [0.77241164, 0.18309475, 0.0055617 , 0.0055617 , 0.0055617 ,\n",
       "        0.0055617 , 0.0055617 , 0.0055617 , 0.0055617 , 0.0055617 ],\n",
       "       [0.8956137 , 0.03442096, 0.00874567, 0.00874567, 0.00874567,\n",
       "        0.00874567, 0.00874567, 0.00874567, 0.00874567, 0.00874567],\n",
       "       [0.51120275, 0.4548846 , 0.00423908, 0.00423908, 0.00423908,\n",
       "        0.00423908, 0.00423908, 0.00423908, 0.00423908, 0.00423908],\n",
       "       [0.933594  , 0.05033604, 0.00200874, 0.00200874, 0.00200874,\n",
       "        0.00200874, 0.00200874, 0.00200874, 0.00200874, 0.00200874],\n",
       "       [0.41044894, 0.55168784, 0.00473291, 0.00473291, 0.00473291,\n",
       "        0.00473291, 0.00473291, 0.00473291, 0.00473291, 0.00473291],\n",
       "       [0.91367745, 0.06716928, 0.00239416, 0.00239416, 0.00239416,\n",
       "        0.00239416, 0.00239416, 0.00239416, 0.00239416, 0.00239416],\n",
       "       [0.92697483, 0.04773657, 0.00316107, 0.00316107, 0.00316107,\n",
       "        0.00316107, 0.00316107, 0.00316107, 0.00316107, 0.00316107],\n",
       "       [0.9706935 , 0.00705163, 0.00278186, 0.00278186, 0.00278186,\n",
       "        0.00278186, 0.00278186, 0.00278186, 0.00278186, 0.00278186],\n",
       "       [0.9754249 , 0.01341489, 0.00139504, 0.00139504, 0.00139504,\n",
       "        0.00139504, 0.00139504, 0.00139504, 0.00139504, 0.00139504],\n",
       "       [0.9684362 , 0.01946077, 0.00151287, 0.00151287, 0.00151287,\n",
       "        0.00151287, 0.00151287, 0.00151287, 0.00151287, 0.00151287],\n",
       "       [0.96808606, 0.00835496, 0.00294488, 0.00294488, 0.00294488,\n",
       "        0.00294488, 0.00294488, 0.00294488, 0.00294488, 0.00294488],\n",
       "       [0.16582349, 0.701284  , 0.01661157, 0.01661157, 0.01661157,\n",
       "        0.01661157, 0.01661157, 0.01661157, 0.01661157, 0.01661157],\n",
       "       [0.09577322, 0.828899  , 0.00941597, 0.00941597, 0.00941597,\n",
       "        0.00941597, 0.00941597, 0.00941597, 0.00941597, 0.00941597]],\n",
       "      dtype=float32)"
      ]
     },
     "execution_count": 297,
     "metadata": {},
     "output_type": "execute_result"
    }
   ],
   "source": [
    "preds"
   ]
  },
  {
   "cell_type": "code",
   "execution_count": null,
   "metadata": {},
   "outputs": [],
   "source": [
    "test_labels"
   ]
  },
  {
   "cell_type": "markdown",
   "metadata": {},
   "source": [
    "### check health survey trend"
   ]
  },
  {
   "cell_type": "code",
   "execution_count": null,
   "metadata": {},
   "outputs": [],
   "source": [
    "writerIDs_ls = os.listdir(data_path)\n",
    "#writerID = '5e0bd824-8960-4bc8-9983-90d91b9c4719'\n",
    "\n",
    "for writerID in writerIDs_ls:\n",
    "    deviceID_ls = os.listdir(f'{data_path}/{writerID}')\n",
    "    for deviceID in deviceID_ls:\n",
    "        file_ls = os.listdir(f'{data_path}/{writerID}/{deviceID}')\n",
    "        print(len(file_ls), end=' ')\n",
    "    print(' | ', end=' ')\n",
    "    '''for file in file_ls:\n",
    "        with open(f'{data_path}/{writerID}/{deviceID}/{file}') as f:\n",
    "            js = json.load(f)\n",
    "        # print all files for one user\n",
    "        print(js)'''"
   ]
  },
  {
   "cell_type": "code",
   "execution_count": null,
   "metadata": {},
   "outputs": [],
   "source": [
    "file_ls = os.listdir(f'{data_path}/{writerID}/{deviceID}')"
   ]
  },
  {
   "cell_type": "code",
   "execution_count": null,
   "metadata": {},
   "outputs": [],
   "source": [
    "file_ls"
   ]
  },
  {
   "cell_type": "code",
   "execution_count": null,
   "metadata": {},
   "outputs": [],
   "source": []
  }
 ],
 "metadata": {
  "kernelspec": {
   "display_name": "Python 3.6.13 ('py36')",
   "language": "python",
   "name": "python3"
  },
  "language_info": {
   "codemirror_mode": {
    "name": "ipython",
    "version": 3
   },
   "file_extension": ".py",
   "mimetype": "text/x-python",
   "name": "python",
   "nbconvert_exporter": "python",
   "pygments_lexer": "ipython3",
   "version": "3.6.9"
  },
  "vscode": {
   "interpreter": {
    "hash": "763944e8a0f0ced878785a0a4fba7a66755afcae9e9bfcbb46e371437d18a427"
   }
  }
 },
 "nbformat": 4,
 "nbformat_minor": 4
}
