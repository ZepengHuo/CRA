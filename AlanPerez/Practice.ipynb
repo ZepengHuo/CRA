{
 "cells": [
  {
   "cell_type": "code",
   "execution_count": 4,
   "id": "a98c4f7a-dd45-4107-9480-4dc2b5eabbe1",
   "metadata": {},
   "outputs": [
    {
     "data": {
      "text/plain": [
       "3"
      ]
     },
     "execution_count": 4,
     "metadata": {},
     "output_type": "execute_result"
    }
   ],
   "source": [
    "(1+2)"
   ]
  },
  {
   "cell_type": "code",
   "execution_count": 7,
   "id": "10af8619-c960-4777-91e6-dae334624fee",
   "metadata": {},
   "outputs": [],
   "source": [
    "#TEST TITLE\n",
    "##TITLE"
   ]
  },
  {
   "cell_type": "code",
   "execution_count": null,
   "id": "222d9657-f797-4537-b1b7-f510b4519395",
   "metadata": {},
   "outputs": [],
   "source": []
  },
  {
   "cell_type": "code",
   "execution_count": null,
   "id": "f8b03c37-f6dc-4c56-8e78-4e23d40122f1",
   "metadata": {},
   "outputs": [],
   "source": []
  },
  {
   "cell_type": "code",
   "execution_count": null,
   "id": "b6226d04-2424-4b96-9a09-9698d3068beb",
   "metadata": {},
   "outputs": [],
   "source": []
  }
 ],
 "metadata": {
  "kernelspec": {
   "display_name": "Python 3.8.10 64-bit",
   "language": "python",
   "name": "python3"
  },
  "language_info": {
   "codemirror_mode": {
    "name": "ipython",
    "version": 3
   },
   "file_extension": ".py",
   "mimetype": "text/x-python",
   "name": "python",
   "nbconvert_exporter": "python",
   "pygments_lexer": "ipython3",
   "version": "3.8.10"
  },
  "vscode": {
   "interpreter": {
    "hash": "31f2aee4e71d21fbe5cf8b01ff0e069b9275f58929596ceb00d14d90e3e16cd6"
   }
  }
 },
 "nbformat": 4,
 "nbformat_minor": 5
}
